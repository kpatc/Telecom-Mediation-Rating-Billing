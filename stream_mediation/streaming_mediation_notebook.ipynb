{
 "cells": [
  {
   "cell_type": "code",
   "execution_count": 2,
   "id": "7a60dfbb",
   "metadata": {},
   "outputs": [],
   "source": [
    "from pyspark.sql import SparkSession\n",
    "from pyspark.sql.functions import col, from_json, lit, sha2, concat_ws, when\n",
    "from pyspark.sql.types import StructType, StringType, IntegerType, DoubleType, TimestampType\n",
    "from dotenv import load_dotenv\n",
    "import os\n",
    "\n",
    "load_dotenv()\n",
    "\n",
    "DB_NAME = os.getenv(\"DB_NAME\")\n",
    "DB_USER = os.getenv(\"DB_USER\")\n",
    "DB_PASSWORD = os.getenv(\"DB_PASSWORD\")\n"
   ]
  },
  {
   "cell_type": "code",
   "execution_count": 4,
   "id": "7ef6e2e4",
   "metadata": {},
   "outputs": [],
   "source": [
    "jdbc_url = \"jdbc:postgresql://localhost:5432/\"+DB_NAME\n",
    "jdbc_properties = {\n",
    "    \"user\": DB_USER,\n",
    "    \"password\": DB_PASSWORD,\n",
    "    \"driver\": \"org.postgresql.Driver\"\n",
    "}\n",
    "nom_table = \"normalized_cdr\""
   ]
  },
  {
   "cell_type": "code",
   "execution_count": 5,
   "id": "3cda0003",
   "metadata": {},
   "outputs": [
    {
     "name": "stderr",
     "output_type": "stream",
     "text": [
      "25/06/08 14:47:43 WARN Utils: Your hostname, Joshua resolves to a loopback address: 127.0.0.1; using 192.168.11.113 instead (on interface wlo1)\n",
      "25/06/08 14:47:43 WARN Utils: Set SPARK_LOCAL_IP if you need to bind to another address\n"
     ]
    },
    {
     "name": "stdout",
     "output_type": "stream",
     "text": [
      ":: loading settings :: url = jar:file:/home/josh/Big%20Data%20Projects/Projet%20Telecom/telecom_env/lib/python3.12/site-packages/pyspark/jars/ivy-2.5.1.jar!/org/apache/ivy/core/settings/ivysettings.xml\n"
     ]
    },
    {
     "name": "stderr",
     "output_type": "stream",
     "text": [
      "Ivy Default Cache set to: /home/josh/.ivy2/cache\n",
      "The jars for the packages stored in: /home/josh/.ivy2/jars\n",
      "org.apache.spark#spark-sql-kafka-0-10_2.12 added as a dependency\n",
      ":: resolving dependencies :: org.apache.spark#spark-submit-parent-7271e2b0-06a4-4768-ba20-5461be72139e;1.0\n",
      "\tconfs: [default]\n",
      "\tfound org.apache.spark#spark-sql-kafka-0-10_2.12;3.5.0 in central\n",
      "\tfound org.apache.spark#spark-token-provider-kafka-0-10_2.12;3.5.0 in central\n",
      "\tfound org.apache.kafka#kafka-clients;3.4.1 in central\n",
      "\tfound org.lz4#lz4-java;1.8.0 in central\n",
      "\tfound org.xerial.snappy#snappy-java;1.1.10.3 in central\n",
      "\tfound org.slf4j#slf4j-api;2.0.7 in central\n",
      "\tfound org.apache.hadoop#hadoop-client-runtime;3.3.4 in central\n",
      "\tfound org.apache.hadoop#hadoop-client-api;3.3.4 in central\n",
      "\tfound commons-logging#commons-logging;1.1.3 in local-m2-cache\n",
      "\tfound com.google.code.findbugs#jsr305;3.0.0 in central\n",
      "\tfound org.apache.commons#commons-pool2;2.11.1 in central\n",
      ":: resolution report :: resolve 1978ms :: artifacts dl 69ms\n",
      "\t:: modules in use:\n",
      "\tcom.google.code.findbugs#jsr305;3.0.0 from central in [default]\n",
      "\tcommons-logging#commons-logging;1.1.3 from local-m2-cache in [default]\n",
      "\torg.apache.commons#commons-pool2;2.11.1 from central in [default]\n",
      "\torg.apache.hadoop#hadoop-client-api;3.3.4 from central in [default]\n",
      "\torg.apache.hadoop#hadoop-client-runtime;3.3.4 from central in [default]\n",
      "\torg.apache.kafka#kafka-clients;3.4.1 from central in [default]\n",
      "\torg.apache.spark#spark-sql-kafka-0-10_2.12;3.5.0 from central in [default]\n",
      "\torg.apache.spark#spark-token-provider-kafka-0-10_2.12;3.5.0 from central in [default]\n",
      "\torg.lz4#lz4-java;1.8.0 from central in [default]\n",
      "\torg.slf4j#slf4j-api;2.0.7 from central in [default]\n",
      "\torg.xerial.snappy#snappy-java;1.1.10.3 from central in [default]\n",
      "\t---------------------------------------------------------------------\n",
      "\t|                  |            modules            ||   artifacts   |\n",
      "\t|       conf       | number| search|dwnlded|evicted|| number|dwnlded|\n",
      "\t---------------------------------------------------------------------\n",
      "\t|      default     |   11  |   0   |   0   |   0   ||   11  |   0   |\n",
      "\t---------------------------------------------------------------------\n",
      ":: retrieving :: org.apache.spark#spark-submit-parent-7271e2b0-06a4-4768-ba20-5461be72139e\n",
      "\tconfs: [default]\n",
      "\t0 artifacts copied, 11 already retrieved (0kB/31ms)\n",
      "25/06/08 14:47:47 WARN NativeCodeLoader: Unable to load native-hadoop library for your platform... using builtin-java classes where applicable\n",
      "Setting default log level to \"WARN\".\n",
      "To adjust logging level use sc.setLogLevel(newLevel). For SparkR, use setLogLevel(newLevel).\n"
     ]
    },
    {
     "name": "stderr",
     "output_type": "stream",
     "text": [
      "25/06/08 14:48:09 WARN GarbageCollectionMetrics: To enable non-built-in garbage collector(s) List(G1 Concurrent GC), users should configure it(them) to spark.eventLog.gcMetrics.youngGenerationGarbageCollectors or spark.eventLog.gcMetrics.oldGenerationGarbageCollectors\n"
     ]
    }
   ],
   "source": [
    "# Démarrer Spark\n",
    "spark = SparkSession.builder \\\n",
    "    .appName(\"StreamingMediation\") \\\n",
    "    .config(\"spark.streaming.stopGracefullyOnShutdown\", True) \\\n",
    "    .config(\"spark.jars.packages\",\"org.apache.spark:spark-sql-kafka-0-10_2.12:3.5.0\")\\\n",
    "    .config(\"spark.jars\", \"/home/josh/.m2/repository/org/postgresql/postgresql/42.7.5/postgresql-42.7.5.jar\") \\\n",
    "    .config(\"spark.sql.shuffle.partitions\", 8)\\\n",
    "    .getOrCreate()\n",
    "\n",
    "spark.sparkContext.setLogLevel(\"WARN\")"
   ]
  },
  {
   "cell_type": "code",
   "execution_count": 6,
   "id": "cc666a80",
   "metadata": {},
   "outputs": [],
   "source": [
    "# Lire depuis Kafka\n",
    "df_raw = spark.readStream \\\n",
    "    .format(\"kafka\") \\\n",
    "    .option(\"kafka.bootstrap.servers\", \"localhost:9092\") \\\n",
    "    .option(\"subscribe\", \"cdr_topic\") \\\n",
    "    .option(\"startingOffsets\", \"latest\") \\\n",
    "    .option(\"failOnDataLoss\", \"false\") \\\n",
    "    .load()\n"
   ]
  },
  {
   "cell_type": "code",
   "execution_count": 7,
   "id": "9ed93f39",
   "metadata": {},
   "outputs": [
    {
     "name": "stdout",
     "output_type": "stream",
     "text": [
      "root\n",
      " |-- key: binary (nullable = true)\n",
      " |-- value: binary (nullable = true)\n",
      " |-- topic: string (nullable = true)\n",
      " |-- partition: integer (nullable = true)\n",
      " |-- offset: long (nullable = true)\n",
      " |-- timestamp: timestamp (nullable = true)\n",
      " |-- timestampType: integer (nullable = true)\n",
      "\n"
     ]
    }
   ],
   "source": [
    "df_raw.printSchema()"
   ]
  },
  {
   "cell_type": "code",
   "execution_count": 8,
   "id": "aea20f04",
   "metadata": {},
   "outputs": [],
   "source": [
    "# Définir le schéma brut (adapté aux 3 types de records)\n",
    "schema = StructType() \\\n",
    "    .add(\"record_type\", StringType()) \\\n",
    "    .add(\"timestamp\", StringType()) \\\n",
    "    .add(\"caller_id\", StringType()) \\\n",
    "    .add(\"callee_id\", StringType()) \\\n",
    "    .add(\"sender_id\", StringType()) \\\n",
    "    .add(\"receiver_id\", StringType()) \\\n",
    "    .add(\"user_id\", StringType()) \\\n",
    "    .add(\"duration_sec\", IntegerType()) \\\n",
    "    .add(\"session_duration_sec\", IntegerType()) \\\n",
    "    .add(\"data_volume_mb\", DoubleType()) \\\n",
    "    .add(\"cell_id\", StringType()) \\\n",
    "    .add(\"technology\", StringType())"
   ]
  },
  {
   "cell_type": "code",
   "execution_count": 9,
   "id": "01a45873",
   "metadata": {},
   "outputs": [],
   "source": [
    "df_json = df_raw.selectExpr(\"CAST(value AS STRING)\") \\\n",
    "    .select(from_json(col(\"value\"), schema).alias(\"data\")) \\\n",
    "    .select(\"data.*\")\n"
   ]
  },
  {
   "cell_type": "code",
   "execution_count": 10,
   "id": "36e656e8",
   "metadata": {},
   "outputs": [
    {
     "name": "stdout",
     "output_type": "stream",
     "text": [
      "root\n",
      " |-- record_type: string (nullable = true)\n",
      " |-- timestamp: string (nullable = true)\n",
      " |-- caller_id: string (nullable = true)\n",
      " |-- callee_id: string (nullable = true)\n",
      " |-- sender_id: string (nullable = true)\n",
      " |-- receiver_id: string (nullable = true)\n",
      " |-- user_id: string (nullable = true)\n",
      " |-- duration_sec: integer (nullable = true)\n",
      " |-- session_duration_sec: integer (nullable = true)\n",
      " |-- data_volume_mb: double (nullable = true)\n",
      " |-- cell_id: string (nullable = true)\n",
      " |-- technology: string (nullable = true)\n",
      "\n"
     ]
    }
   ],
   "source": [
    "df_json.printSchema()"
   ]
  },
  {
   "cell_type": "code",
   "execution_count": 11,
   "id": "a3f6c280",
   "metadata": {},
   "outputs": [],
   "source": [
    "# Normalisation du champ msisdn (priorité : caller_id > sender_id > user_id)\n",
    "df_norm = df_json.withColumn(\"msisdn\", \n",
    "    when(col(\"caller_id\").isNotNull(), col(\"caller_id\"))\n",
    "    .when(col(\"sender_id\").isNotNull(), col(\"sender_id\"))\n",
    "    .otherwise(col(\"user_id\"))) \\\n",
    "    .withColumn(\"peer_id\", \n",
    "    when(col(\"callee_id\").isNotNull(), col(\"callee_id\"))\n",
    "    .when(col(\"receiver_id\").isNotNull(), col(\"receiver_id\"))\n",
    "    .otherwise(lit(None)))\n"
   ]
  },
  {
   "cell_type": "code",
   "execution_count": 12,
   "id": "52328c38",
   "metadata": {},
   "outputs": [],
   "source": [
    "# Nettoyage & validation\n",
    "valid_df = df_norm \\\n",
    "    .withColumn(\"status\", \n",
    "        when(col(\"msisdn\").isNull(), lit(\"error\"))\n",
    "        .when(~col(\"msisdn\").rlike(\"^212[0-9]+\"), lit(\"error\"))\n",
    "        .when(col(\"msisdn\").startswith(\"999\"), lit(\"error\"))\n",
    "        .when((col(\"duration_sec\") < 0) | (col(\"data_volume_mb\") < 0) | (col(\"session_duration_sec\") < 0), lit(\"error\"))\n",
    "        .otherwise(lit(\"ok\")))\n",
    "\n",
    "# Déduplication via hash (possible en production avec stateful mapGroupsWithState)\n",
    "valid_df = valid_df.withColumn(\"record_hash\", sha2(concat_ws(\"|\", col(\"timestamp\"), col(\"msisdn\"), col(\"record_type\")), 256))\n",
    "from pyspark.sql.functions import col\n",
    "\n",
    "deduplicated_df = valid_df.dropDuplicates([\"record_hash\"])\n"
   ]
  },
  {
   "cell_type": "code",
   "execution_count": 13,
   "id": "5e79bed4",
   "metadata": {},
   "outputs": [
    {
     "name": "stdout",
     "output_type": "stream",
     "text": [
      "root\n",
      " |-- record_type: string (nullable = true)\n",
      " |-- timestamp: string (nullable = true)\n",
      " |-- caller_id: string (nullable = true)\n",
      " |-- callee_id: string (nullable = true)\n",
      " |-- sender_id: string (nullable = true)\n",
      " |-- receiver_id: string (nullable = true)\n",
      " |-- user_id: string (nullable = true)\n",
      " |-- duration_sec: integer (nullable = true)\n",
      " |-- session_duration_sec: integer (nullable = true)\n",
      " |-- data_volume_mb: double (nullable = true)\n",
      " |-- cell_id: string (nullable = true)\n",
      " |-- technology: string (nullable = true)\n",
      " |-- msisdn: string (nullable = true)\n",
      " |-- peer_id: string (nullable = true)\n",
      " |-- status: string (nullable = false)\n",
      " |-- record_hash: string (nullable = true)\n",
      "\n"
     ]
    }
   ],
   "source": [
    "clean_df = deduplicated_df.filter(col(\"status\") == \"ok\")\n",
    "clean_df.printSchema()"
   ]
  },
  {
   "cell_type": "code",
   "execution_count": 14,
   "id": "d9d2449d",
   "metadata": {},
   "outputs": [
    {
     "name": "stdout",
     "output_type": "stream",
     "text": [
      "root\n",
      " |-- record_type: string (nullable = true)\n",
      " |-- timestamp: timestamp (nullable = true)\n",
      " |-- msisdn: string (nullable = true)\n",
      " |-- peer_id: string (nullable = true)\n",
      " |-- duration_sec: integer (nullable = true)\n",
      " |-- data_volume_mb: double (nullable = true)\n",
      " |-- session_duration_sec: integer (nullable = true)\n",
      " |-- cell_id: string (nullable = true)\n",
      " |-- technology: string (nullable = true)\n",
      " |-- status: string (nullable = false)\n",
      " |-- record_hash: string (nullable = true)\n",
      "\n"
     ]
    }
   ],
   "source": [
    "df_for_db = clean_df.select(\n",
    "    \"record_type\", \n",
    "    col(\"timestamp\").cast(\"timestamp\"),  # cast string to timestamp\n",
    "    \"msisdn\", \"peer_id\", \n",
    "    \"duration_sec\", \"data_volume_mb\", \"session_duration_sec\", \n",
    "    \"cell_id\", \"technology\", \"status\", \"record_hash\"\n",
    ")\n",
    "df_for_db.printSchema()"
   ]
  },
  {
   "cell_type": "code",
   "execution_count": 17,
   "id": "d8e58c9b",
   "metadata": {},
   "outputs": [],
   "source": [
    "# Python function to write to multiple sinks\n",
    "def device_data_output(df, batch_id):\n",
    "    print(\"Batch id: \"+ str(batch_id))\n",
    "    \n",
    "    # # Write to parquet\n",
    "    # df.write.format(\"parquet\").mode(\"append\").save(\"data/output/device_data.parquet/\")\n",
    "    \n",
    "    \n",
    "    # Write to JDBC Postgres\n",
    "    (\n",
    "        df.write \\\n",
    "            .format(\"jdbc\") \\\n",
    "            .option(\"url\", jdbc_url) \\\n",
    "            .option(\"dbtable\", nom_table) \\\n",
    "            .option(\"user\", jdbc_properties[\"user\"]) \\\n",
    "            .option(\"password\", jdbc_properties[\"password\"]) \\\n",
    "            .option(\"driver\", jdbc_properties[\"driver\"]) \\\n",
    "            .mode(\"append\") \\\n",
    "            .save()\n",
    "    \n",
    "    )\n",
    "    \n",
    "    # Diplay\n",
    "    df.show()\n",
    "    "
   ]
  },
  {
   "cell_type": "code",
   "execution_count": null,
   "id": "6125e7f6",
   "metadata": {},
   "outputs": [
    {
     "name": "stderr",
     "output_type": "stream",
     "text": [
      "25/06/08 14:51:12 WARN ResolveWriteToStream: spark.sql.adaptive.enabled is not supported in streaming DataFrames/Datasets and will be disabled.\n",
      "25/06/08 14:51:12 WARN AdminClientConfig: These configurations '[key.deserializer, value.deserializer, enable.auto.commit, max.poll.records, auto.offset.reset]' were supplied but are not used yet.\n",
      "25/06/08 14:51:27 WARN ProcessingTimeExecutor: Current batch is falling behind. The trigger interval is 10000 milliseconds, but spent 15775 milliseconds\n",
      "                                                                                \r"
     ]
    }
   ],
   "source": [
    "# Running foreachBatch\n",
    "# Write the output to Multiple Sinks\n",
    "\n",
    "(df_for_db\n",
    " .writeStream\n",
    " .foreachBatch(device_data_output)\n",
    " .trigger(processingTime='10 seconds')\n",
    " .option(\"checkpointLocation\", \"checkpoint_dir_kafka\")\n",
    " .start()\n",
    " .awaitTermination())"
   ]
  }
 ],
 "metadata": {
  "kernelspec": {
   "display_name": "telecom_env",
   "language": "python",
   "name": "python3"
  },
  "language_info": {
   "codemirror_mode": {
    "name": "ipython",
    "version": 3
   },
   "file_extension": ".py",
   "mimetype": "text/x-python",
   "name": "python",
   "nbconvert_exporter": "python",
   "pygments_lexer": "ipython3",
   "version": "3.12.3"
  }
 },
 "nbformat": 4,
 "nbformat_minor": 5
}
